{
  "nbformat": 4,
  "nbformat_minor": 0,
  "metadata": {
    "colab": {
      "provenance": []
    },
    "kernelspec": {
      "name": "python3",
      "display_name": "Python 3"
    },
    "language_info": {
      "name": "python"
    }
  },
  "cells": [
    {
      "cell_type": "code",
      "execution_count": 1,
      "metadata": {
        "colab": {
          "base_uri": "https://localhost:8080/"
        },
        "id": "hMFAX4WbYL3t",
        "outputId": "0622c8e8-e783-4dfc-d632-a5eacccac0af"
      },
      "outputs": [
        {
          "output_type": "stream",
          "name": "stdout",
          "text": [
            "fatal: destination path 'Pro' already exists and is not an empty directory.\n"
          ]
        }
      ],
      "source": [
        "!git clone https://github.com/sohelrana-aiub/Pro"
      ]
    },
    {
      "cell_type": "code",
      "source": [
        "cd Pro"
      ],
      "metadata": {
        "colab": {
          "base_uri": "https://localhost:8080/"
        },
        "id": "-XUMk6bYYc4U",
        "outputId": "31197af9-7eb1-4820-d730-e5af435ef699"
      },
      "execution_count": 2,
      "outputs": [
        {
          "output_type": "stream",
          "name": "stdout",
          "text": [
            "/content/Pro\n"
          ]
        }
      ]
    },
    {
      "cell_type": "code",
      "source": [
        "ls"
      ],
      "metadata": {
        "colab": {
          "base_uri": "https://localhost:8080/"
        },
        "id": "WwRjCaI3Yf1F",
        "outputId": "f124ce21-323c-4e60-cfac-79dbacaf9322"
      },
      "execution_count": 3,
      "outputs": [
        {
          "output_type": "stream",
          "name": "stdout",
          "text": [
            "best_model.json  Fish.csv  main.py   prediction.py  requirements.txt\n",
            "classes.npy      LICENSE   model.py  README.md\n"
          ]
        }
      ]
    },
    {
      "cell_type": "code",
      "source": [
        "import pandas as pd\n",
        "import tensorflow as tf\n",
        "import numpy as np\n",
        "import matplotlib.pyplot as plt"
      ],
      "metadata": {
        "id": "RBNK891KYj6t"
      },
      "execution_count": 4,
      "outputs": []
    },
    {
      "cell_type": "code",
      "source": [
        "data = pd.read_csv(\"/content/Pro/Fish.csv\")"
      ],
      "metadata": {
        "id": "-AcA7PHXY2if"
      },
      "execution_count": 5,
      "outputs": []
    },
    {
      "cell_type": "code",
      "source": [
        "data"
      ],
      "metadata": {
        "colab": {
          "base_uri": "https://localhost:8080/",
          "height": 424
        },
        "id": "4MY7QLpEZAUU",
        "outputId": "42937f49-3fb0-4274-e10b-3963456f2328"
      },
      "execution_count": 6,
      "outputs": [
        {
          "output_type": "execute_result",
          "data": {
            "text/plain": [
              "    Species  Weight  Length1  Length2  Length3   Height   Width\n",
              "0     Bream   242.0     23.2     25.4     30.0  11.5200  4.0200\n",
              "1     Bream   290.0     24.0     26.3     31.2  12.4800  4.3056\n",
              "2     Bream   340.0     23.9     26.5     31.1  12.3778  4.6961\n",
              "3     Bream   363.0     26.3     29.0     33.5  12.7300  4.4555\n",
              "4     Bream   430.0     26.5     29.0     34.0  12.4440  5.1340\n",
              "..      ...     ...      ...      ...      ...      ...     ...\n",
              "154   Smelt    12.2     11.5     12.2     13.4   2.0904  1.3936\n",
              "155   Smelt    13.4     11.7     12.4     13.5   2.4300  1.2690\n",
              "156   Smelt    12.2     12.1     13.0     13.8   2.2770  1.2558\n",
              "157   Smelt    19.7     13.2     14.3     15.2   2.8728  2.0672\n",
              "158   Smelt    19.9     13.8     15.0     16.2   2.9322  1.8792\n",
              "\n",
              "[159 rows x 7 columns]"
            ],
            "text/html": [
              "\n",
              "  <div id=\"df-1047aeaf-c227-43d6-997c-56df44a80cc6\">\n",
              "    <div class=\"colab-df-container\">\n",
              "      <div>\n",
              "<style scoped>\n",
              "    .dataframe tbody tr th:only-of-type {\n",
              "        vertical-align: middle;\n",
              "    }\n",
              "\n",
              "    .dataframe tbody tr th {\n",
              "        vertical-align: top;\n",
              "    }\n",
              "\n",
              "    .dataframe thead th {\n",
              "        text-align: right;\n",
              "    }\n",
              "</style>\n",
              "<table border=\"1\" class=\"dataframe\">\n",
              "  <thead>\n",
              "    <tr style=\"text-align: right;\">\n",
              "      <th></th>\n",
              "      <th>Species</th>\n",
              "      <th>Weight</th>\n",
              "      <th>Length1</th>\n",
              "      <th>Length2</th>\n",
              "      <th>Length3</th>\n",
              "      <th>Height</th>\n",
              "      <th>Width</th>\n",
              "    </tr>\n",
              "  </thead>\n",
              "  <tbody>\n",
              "    <tr>\n",
              "      <th>0</th>\n",
              "      <td>Bream</td>\n",
              "      <td>242.0</td>\n",
              "      <td>23.2</td>\n",
              "      <td>25.4</td>\n",
              "      <td>30.0</td>\n",
              "      <td>11.5200</td>\n",
              "      <td>4.0200</td>\n",
              "    </tr>\n",
              "    <tr>\n",
              "      <th>1</th>\n",
              "      <td>Bream</td>\n",
              "      <td>290.0</td>\n",
              "      <td>24.0</td>\n",
              "      <td>26.3</td>\n",
              "      <td>31.2</td>\n",
              "      <td>12.4800</td>\n",
              "      <td>4.3056</td>\n",
              "    </tr>\n",
              "    <tr>\n",
              "      <th>2</th>\n",
              "      <td>Bream</td>\n",
              "      <td>340.0</td>\n",
              "      <td>23.9</td>\n",
              "      <td>26.5</td>\n",
              "      <td>31.1</td>\n",
              "      <td>12.3778</td>\n",
              "      <td>4.6961</td>\n",
              "    </tr>\n",
              "    <tr>\n",
              "      <th>3</th>\n",
              "      <td>Bream</td>\n",
              "      <td>363.0</td>\n",
              "      <td>26.3</td>\n",
              "      <td>29.0</td>\n",
              "      <td>33.5</td>\n",
              "      <td>12.7300</td>\n",
              "      <td>4.4555</td>\n",
              "    </tr>\n",
              "    <tr>\n",
              "      <th>4</th>\n",
              "      <td>Bream</td>\n",
              "      <td>430.0</td>\n",
              "      <td>26.5</td>\n",
              "      <td>29.0</td>\n",
              "      <td>34.0</td>\n",
              "      <td>12.4440</td>\n",
              "      <td>5.1340</td>\n",
              "    </tr>\n",
              "    <tr>\n",
              "      <th>...</th>\n",
              "      <td>...</td>\n",
              "      <td>...</td>\n",
              "      <td>...</td>\n",
              "      <td>...</td>\n",
              "      <td>...</td>\n",
              "      <td>...</td>\n",
              "      <td>...</td>\n",
              "    </tr>\n",
              "    <tr>\n",
              "      <th>154</th>\n",
              "      <td>Smelt</td>\n",
              "      <td>12.2</td>\n",
              "      <td>11.5</td>\n",
              "      <td>12.2</td>\n",
              "      <td>13.4</td>\n",
              "      <td>2.0904</td>\n",
              "      <td>1.3936</td>\n",
              "    </tr>\n",
              "    <tr>\n",
              "      <th>155</th>\n",
              "      <td>Smelt</td>\n",
              "      <td>13.4</td>\n",
              "      <td>11.7</td>\n",
              "      <td>12.4</td>\n",
              "      <td>13.5</td>\n",
              "      <td>2.4300</td>\n",
              "      <td>1.2690</td>\n",
              "    </tr>\n",
              "    <tr>\n",
              "      <th>156</th>\n",
              "      <td>Smelt</td>\n",
              "      <td>12.2</td>\n",
              "      <td>12.1</td>\n",
              "      <td>13.0</td>\n",
              "      <td>13.8</td>\n",
              "      <td>2.2770</td>\n",
              "      <td>1.2558</td>\n",
              "    </tr>\n",
              "    <tr>\n",
              "      <th>157</th>\n",
              "      <td>Smelt</td>\n",
              "      <td>19.7</td>\n",
              "      <td>13.2</td>\n",
              "      <td>14.3</td>\n",
              "      <td>15.2</td>\n",
              "      <td>2.8728</td>\n",
              "      <td>2.0672</td>\n",
              "    </tr>\n",
              "    <tr>\n",
              "      <th>158</th>\n",
              "      <td>Smelt</td>\n",
              "      <td>19.9</td>\n",
              "      <td>13.8</td>\n",
              "      <td>15.0</td>\n",
              "      <td>16.2</td>\n",
              "      <td>2.9322</td>\n",
              "      <td>1.8792</td>\n",
              "    </tr>\n",
              "  </tbody>\n",
              "</table>\n",
              "<p>159 rows × 7 columns</p>\n",
              "</div>\n",
              "      <button class=\"colab-df-convert\" onclick=\"convertToInteractive('df-1047aeaf-c227-43d6-997c-56df44a80cc6')\"\n",
              "              title=\"Convert this dataframe to an interactive table.\"\n",
              "              style=\"display:none;\">\n",
              "        \n",
              "  <svg xmlns=\"http://www.w3.org/2000/svg\" height=\"24px\"viewBox=\"0 0 24 24\"\n",
              "       width=\"24px\">\n",
              "    <path d=\"M0 0h24v24H0V0z\" fill=\"none\"/>\n",
              "    <path d=\"M18.56 5.44l.94 2.06.94-2.06 2.06-.94-2.06-.94-.94-2.06-.94 2.06-2.06.94zm-11 1L8.5 8.5l.94-2.06 2.06-.94-2.06-.94L8.5 2.5l-.94 2.06-2.06.94zm10 10l.94 2.06.94-2.06 2.06-.94-2.06-.94-.94-2.06-.94 2.06-2.06.94z\"/><path d=\"M17.41 7.96l-1.37-1.37c-.4-.4-.92-.59-1.43-.59-.52 0-1.04.2-1.43.59L10.3 9.45l-7.72 7.72c-.78.78-.78 2.05 0 2.83L4 21.41c.39.39.9.59 1.41.59.51 0 1.02-.2 1.41-.59l7.78-7.78 2.81-2.81c.8-.78.8-2.07 0-2.86zM5.41 20L4 18.59l7.72-7.72 1.47 1.35L5.41 20z\"/>\n",
              "  </svg>\n",
              "      </button>\n",
              "      \n",
              "  <style>\n",
              "    .colab-df-container {\n",
              "      display:flex;\n",
              "      flex-wrap:wrap;\n",
              "      gap: 12px;\n",
              "    }\n",
              "\n",
              "    .colab-df-convert {\n",
              "      background-color: #E8F0FE;\n",
              "      border: none;\n",
              "      border-radius: 50%;\n",
              "      cursor: pointer;\n",
              "      display: none;\n",
              "      fill: #1967D2;\n",
              "      height: 32px;\n",
              "      padding: 0 0 0 0;\n",
              "      width: 32px;\n",
              "    }\n",
              "\n",
              "    .colab-df-convert:hover {\n",
              "      background-color: #E2EBFA;\n",
              "      box-shadow: 0px 1px 2px rgba(60, 64, 67, 0.3), 0px 1px 3px 1px rgba(60, 64, 67, 0.15);\n",
              "      fill: #174EA6;\n",
              "    }\n",
              "\n",
              "    [theme=dark] .colab-df-convert {\n",
              "      background-color: #3B4455;\n",
              "      fill: #D2E3FC;\n",
              "    }\n",
              "\n",
              "    [theme=dark] .colab-df-convert:hover {\n",
              "      background-color: #434B5C;\n",
              "      box-shadow: 0px 1px 3px 1px rgba(0, 0, 0, 0.15);\n",
              "      filter: drop-shadow(0px 1px 2px rgba(0, 0, 0, 0.3));\n",
              "      fill: #FFFFFF;\n",
              "    }\n",
              "  </style>\n",
              "\n",
              "      <script>\n",
              "        const buttonEl =\n",
              "          document.querySelector('#df-1047aeaf-c227-43d6-997c-56df44a80cc6 button.colab-df-convert');\n",
              "        buttonEl.style.display =\n",
              "          google.colab.kernel.accessAllowed ? 'block' : 'none';\n",
              "\n",
              "        async function convertToInteractive(key) {\n",
              "          const element = document.querySelector('#df-1047aeaf-c227-43d6-997c-56df44a80cc6');\n",
              "          const dataTable =\n",
              "            await google.colab.kernel.invokeFunction('convertToInteractive',\n",
              "                                                     [key], {});\n",
              "          if (!dataTable) return;\n",
              "\n",
              "          const docLinkHtml = 'Like what you see? Visit the ' +\n",
              "            '<a target=\"_blank\" href=https://colab.research.google.com/notebooks/data_table.ipynb>data table notebook</a>'\n",
              "            + ' to learn more about interactive tables.';\n",
              "          element.innerHTML = '';\n",
              "          dataTable['output_type'] = 'display_data';\n",
              "          await google.colab.output.renderOutput(dataTable, element);\n",
              "          const docLink = document.createElement('div');\n",
              "          docLink.innerHTML = docLinkHtml;\n",
              "          element.appendChild(docLink);\n",
              "        }\n",
              "      </script>\n",
              "    </div>\n",
              "  </div>\n",
              "  "
            ]
          },
          "metadata": {},
          "execution_count": 6
        }
      ]
    },
    {
      "cell_type": "code",
      "source": [
        "data.dtypes"
      ],
      "metadata": {
        "colab": {
          "base_uri": "https://localhost:8080/"
        },
        "id": "b6pyFFeAZEeY",
        "outputId": "bbc61a5b-996f-45bc-9e22-63ccbab05ad0"
      },
      "execution_count": 7,
      "outputs": [
        {
          "output_type": "execute_result",
          "data": {
            "text/plain": [
              "Species     object\n",
              "Weight     float64\n",
              "Length1    float64\n",
              "Length2    float64\n",
              "Length3    float64\n",
              "Height     float64\n",
              "Width      float64\n",
              "dtype: object"
            ]
          },
          "metadata": {},
          "execution_count": 7
        }
      ]
    },
    {
      "cell_type": "code",
      "source": [
        "data.isna().sum()"
      ],
      "metadata": {
        "colab": {
          "base_uri": "https://localhost:8080/"
        },
        "id": "vNJIyxMjZJsB",
        "outputId": "1f45e75a-04d5-4607-9cfe-6daf817fa5f9"
      },
      "execution_count": 8,
      "outputs": [
        {
          "output_type": "execute_result",
          "data": {
            "text/plain": [
              "Species    0\n",
              "Weight     0\n",
              "Length1    0\n",
              "Length2    0\n",
              "Length3    0\n",
              "Height     0\n",
              "Width      0\n",
              "dtype: int64"
            ]
          },
          "metadata": {},
          "execution_count": 8
        }
      ]
    },
    {
      "cell_type": "markdown",
      "source": [
        "**Data Pre-processing**"
      ],
      "metadata": {
        "id": "LybQ9IK2ZSGm"
      }
    },
    {
      "cell_type": "code",
      "source": [
        "from sklearn.preprocessing import MinMaxScaler\n",
        "from sklearn.model_selection import train_test_split\n",
        "from sklearn.compose import make_column_transformer\n",
        "from sklearn.preprocessing import MinMaxScaler, OneHotEncoder"
      ],
      "metadata": {
        "id": "koRXTiHVZNcH"
      },
      "execution_count": 9,
      "outputs": []
    },
    {
      "cell_type": "code",
      "source": [
        "#create a columns tranformer\n",
        "ct = make_column_transformer(\n",
        "    (MinMaxScaler(),['Length1','Length2','Length3']), #turn all values from 0 to 1\n",
        "    (OneHotEncoder(handle_unknown=\"ignore\"), [\"Species\"])\n",
        ")\n",
        "#create X and y values\n",
        "X =   data.drop(\"Weight\",axis=1)\n",
        "y = data['Weight']\n",
        "\n",
        "x_train, x_test, y_train, y_test = train_test_split(X,y, test_size=0.30, random_state=1234)\n",
        "x_train.shape, x_test.shape, y_train.shape, y_test.shape"
      ],
      "metadata": {
        "colab": {
          "base_uri": "https://localhost:8080/"
        },
        "id": "a2P-ifA1ZX-a",
        "outputId": "f74653c5-63c3-4beb-f646-502ef0c3f10f"
      },
      "execution_count": 10,
      "outputs": [
        {
          "output_type": "execute_result",
          "data": {
            "text/plain": [
              "((111, 6), (48, 6), (111,), (48,))"
            ]
          },
          "metadata": {},
          "execution_count": 10
        }
      ]
    },
    {
      "cell_type": "code",
      "source": [
        "#fit the column transformer to our data\n",
        "ct.fit(x_train)\n",
        "X_train_normal = ct.transform(x_train)\n",
        "X_test_normal = ct.transform(x_test)"
      ],
      "metadata": {
        "id": "2i8Aeeg2Za_x"
      },
      "execution_count": 11,
      "outputs": []
    },
    {
      "cell_type": "code",
      "source": [
        "X_train_normal.shape"
      ],
      "metadata": {
        "colab": {
          "base_uri": "https://localhost:8080/"
        },
        "id": "lsiJNK6aZeX_",
        "outputId": "49a5fabf-e3b0-4ec0-81f0-f26e4f63461b"
      },
      "execution_count": 12,
      "outputs": [
        {
          "output_type": "execute_result",
          "data": {
            "text/plain": [
              "(111, 10)"
            ]
          },
          "metadata": {},
          "execution_count": 12
        }
      ]
    },
    {
      "cell_type": "code",
      "source": [
        "tf.random.set_seed(42)\n",
        "callback = tf.keras.callbacks.EarlyStopping(monitor='loss', patience=10)\n",
        "\n",
        "#1.build a mode\n",
        "model = tf.keras.models.Sequential([\n",
        "                                    tf.keras.layers.Dense(100),\n",
        "                         #           tf.keras.layers.Dropout(0.25),\n",
        "                                    tf.keras.layers.Dense(50),\n",
        "                            #        tf.keras.layers.Dropout(0.3),\n",
        "                                    tf.keras.layers.Dense(10),\n",
        "#                                                              tf.keras.layers.Dropout(0.5),\n",
        "\n",
        "                                    tf.keras.layers.Dense(1)\n",
        "            ])\n",
        "#2. compile a model\n",
        "model.compile(optimizer=tf.keras.optimizers.Adam(lr=0.01),\n",
        "              loss=tf.keras.losses.mae,\n",
        "              metrics=[\"mae\",\"mse\"])\n",
        "#3.fit a model\n",
        "history = model.fit(X_train_normal,y_train,epochs=1000,callbacks=[callback])"
      ],
      "metadata": {
        "colab": {
          "base_uri": "https://localhost:8080/"
        },
        "id": "5cf3163iZhej",
        "outputId": "0ab3ce96-0fd8-408f-d719-743c83abb45b"
      },
      "execution_count": 13,
      "outputs": [
        {
          "output_type": "stream",
          "name": "stderr",
          "text": [
            "WARNING:absl:`lr` is deprecated, please use `learning_rate` instead, or use the legacy optimizer, e.g.,tf.keras.optimizers.legacy.Adam.\n"
          ]
        },
        {
          "output_type": "stream",
          "name": "stdout",
          "text": [
            "Epoch 1/1000\n",
            "4/4 [==============================] - 3s 13ms/step - loss: 407.2036 - mae: 407.2036 - mse: 297773.4375\n",
            "Epoch 2/1000\n",
            "4/4 [==============================] - 0s 19ms/step - loss: 406.4711 - mae: 406.4711 - mse: 297027.0000\n",
            "Epoch 3/1000\n",
            "4/4 [==============================] - 0s 8ms/step - loss: 405.6867 - mae: 405.6867 - mse: 296302.8438\n",
            "Epoch 4/1000\n",
            "4/4 [==============================] - 0s 13ms/step - loss: 404.7419 - mae: 404.7419 - mse: 295335.0938\n",
            "Epoch 5/1000\n",
            "4/4 [==============================] - 0s 10ms/step - loss: 403.6306 - mae: 403.6306 - mse: 294279.6250\n",
            "Epoch 6/1000\n",
            "4/4 [==============================] - 0s 10ms/step - loss: 402.2663 - mae: 402.2663 - mse: 293015.5625\n",
            "Epoch 7/1000\n",
            "4/4 [==============================] - 0s 8ms/step - loss: 400.5511 - mae: 400.5511 - mse: 291394.4375\n",
            "Epoch 8/1000\n",
            "4/4 [==============================] - 0s 8ms/step - loss: 398.3777 - mae: 398.3777 - mse: 289280.3750\n",
            "Epoch 9/1000\n",
            "4/4 [==============================] - 0s 8ms/step - loss: 395.7018 - mae: 395.7018 - mse: 286658.3750\n",
            "Epoch 10/1000\n",
            "4/4 [==============================] - 0s 7ms/step - loss: 392.4304 - mae: 392.4304 - mse: 283357.4375\n",
            "Epoch 11/1000\n",
            "4/4 [==============================] - 0s 16ms/step - loss: 388.5145 - mae: 388.5145 - mse: 279724.4375\n",
            "Epoch 12/1000\n",
            "4/4 [==============================] - 0s 9ms/step - loss: 383.7552 - mae: 383.7552 - mse: 274814.0000\n",
            "Epoch 13/1000\n",
            "4/4 [==============================] - 0s 15ms/step - loss: 378.0501 - mae: 378.0501 - mse: 269034.1875\n",
            "Epoch 14/1000\n",
            "4/4 [==============================] - 0s 14ms/step - loss: 370.8865 - mae: 370.8865 - mse: 261705.3125\n",
            "Epoch 15/1000\n",
            "4/4 [==============================] - 0s 18ms/step - loss: 362.3187 - mae: 362.3187 - mse: 253332.9062\n",
            "Epoch 16/1000\n",
            "4/4 [==============================] - 0s 14ms/step - loss: 351.9207 - mae: 351.9207 - mse: 243334.9531\n",
            "Epoch 17/1000\n",
            "4/4 [==============================] - 0s 13ms/step - loss: 339.4760 - mae: 339.4760 - mse: 231942.4844\n",
            "Epoch 18/1000\n",
            "4/4 [==============================] - 0s 16ms/step - loss: 325.2756 - mae: 325.2756 - mse: 218784.5938\n",
            "Epoch 19/1000\n",
            "4/4 [==============================] - 0s 14ms/step - loss: 309.6102 - mae: 309.6102 - mse: 204170.9219\n",
            "Epoch 20/1000\n",
            "4/4 [==============================] - 0s 15ms/step - loss: 293.7278 - mae: 293.7278 - mse: 189205.0156\n",
            "Epoch 21/1000\n",
            "4/4 [==============================] - 0s 13ms/step - loss: 277.8465 - mae: 277.8465 - mse: 172673.0469\n",
            "Epoch 22/1000\n",
            "4/4 [==============================] - 0s 11ms/step - loss: 262.2419 - mae: 262.2419 - mse: 156111.3906\n",
            "Epoch 23/1000\n",
            "4/4 [==============================] - 0s 8ms/step - loss: 249.2665 - mae: 249.2665 - mse: 140083.7656\n",
            "Epoch 24/1000\n",
            "4/4 [==============================] - 0s 8ms/step - loss: 237.0980 - mae: 237.0980 - mse: 124709.1016\n",
            "Epoch 25/1000\n",
            "4/4 [==============================] - 0s 8ms/step - loss: 225.9180 - mae: 225.9180 - mse: 110307.6328\n",
            "Epoch 26/1000\n",
            "4/4 [==============================] - 0s 8ms/step - loss: 217.6102 - mae: 217.6102 - mse: 99810.7109\n",
            "Epoch 27/1000\n",
            "4/4 [==============================] - 0s 13ms/step - loss: 212.3981 - mae: 212.3981 - mse: 90284.3281\n",
            "Epoch 28/1000\n",
            "4/4 [==============================] - 0s 11ms/step - loss: 207.2039 - mae: 207.2039 - mse: 82475.8125\n",
            "Epoch 29/1000\n",
            "4/4 [==============================] - 0s 12ms/step - loss: 203.6395 - mae: 203.6395 - mse: 76917.1328\n",
            "Epoch 30/1000\n",
            "4/4 [==============================] - 0s 10ms/step - loss: 199.2351 - mae: 199.2351 - mse: 72946.5703\n",
            "Epoch 31/1000\n",
            "4/4 [==============================] - 0s 8ms/step - loss: 195.0673 - mae: 195.0673 - mse: 69837.9375\n",
            "Epoch 32/1000\n",
            "4/4 [==============================] - 0s 7ms/step - loss: 190.8790 - mae: 190.8790 - mse: 67031.3047\n",
            "Epoch 33/1000\n",
            "4/4 [==============================] - 0s 10ms/step - loss: 187.2372 - mae: 187.2372 - mse: 64902.1836\n",
            "Epoch 34/1000\n",
            "4/4 [==============================] - 0s 8ms/step - loss: 183.2104 - mae: 183.2104 - mse: 62880.9727\n",
            "Epoch 35/1000\n",
            "4/4 [==============================] - 0s 9ms/step - loss: 179.7639 - mae: 179.7639 - mse: 61857.7930\n",
            "Epoch 36/1000\n",
            "4/4 [==============================] - 0s 10ms/step - loss: 176.2129 - mae: 176.2129 - mse: 60934.3945\n",
            "Epoch 37/1000\n",
            "4/4 [==============================] - 0s 14ms/step - loss: 172.4269 - mae: 172.4269 - mse: 59956.0352\n",
            "Epoch 38/1000\n",
            "4/4 [==============================] - 0s 7ms/step - loss: 169.4709 - mae: 169.4709 - mse: 60502.3164\n",
            "Epoch 39/1000\n",
            "4/4 [==============================] - 0s 11ms/step - loss: 166.2984 - mae: 166.2984 - mse: 60874.1172\n",
            "Epoch 40/1000\n",
            "4/4 [==============================] - 0s 12ms/step - loss: 163.7221 - mae: 163.7221 - mse: 60843.3047\n",
            "Epoch 41/1000\n",
            "4/4 [==============================] - 0s 12ms/step - loss: 161.8405 - mae: 161.8405 - mse: 60090.0469\n",
            "Epoch 42/1000\n",
            "4/4 [==============================] - 0s 11ms/step - loss: 159.8384 - mae: 159.8384 - mse: 58931.2930\n",
            "Epoch 43/1000\n",
            "4/4 [==============================] - 0s 16ms/step - loss: 158.0548 - mae: 158.0548 - mse: 57623.2227\n",
            "Epoch 44/1000\n",
            "4/4 [==============================] - 0s 11ms/step - loss: 156.0353 - mae: 156.0353 - mse: 56032.3320\n",
            "Epoch 45/1000\n",
            "4/4 [==============================] - 0s 17ms/step - loss: 154.3705 - mae: 154.3705 - mse: 54550.7109\n",
            "Epoch 46/1000\n",
            "4/4 [==============================] - 0s 12ms/step - loss: 152.1060 - mae: 152.1060 - mse: 52841.4648\n",
            "Epoch 47/1000\n",
            "4/4 [==============================] - 0s 10ms/step - loss: 149.9843 - mae: 149.9843 - mse: 51374.7539\n",
            "Epoch 48/1000\n",
            "4/4 [==============================] - 0s 7ms/step - loss: 148.4160 - mae: 148.4160 - mse: 50195.6797\n",
            "Epoch 49/1000\n",
            "4/4 [==============================] - 0s 13ms/step - loss: 146.3254 - mae: 146.3254 - mse: 49025.6406\n",
            "Epoch 50/1000\n",
            "4/4 [==============================] - 0s 7ms/step - loss: 144.3821 - mae: 144.3821 - mse: 48178.0195\n",
            "Epoch 51/1000\n",
            "4/4 [==============================] - 0s 23ms/step - loss: 142.5650 - mae: 142.5650 - mse: 46945.2891\n",
            "Epoch 52/1000\n",
            "4/4 [==============================] - 0s 17ms/step - loss: 140.9981 - mae: 140.9981 - mse: 45805.3945\n",
            "Epoch 53/1000\n",
            "4/4 [==============================] - 0s 10ms/step - loss: 139.9325 - mae: 139.9325 - mse: 45209.4219\n",
            "Epoch 54/1000\n",
            "4/4 [==============================] - 0s 10ms/step - loss: 138.3564 - mae: 138.3564 - mse: 44849.3164\n",
            "Epoch 55/1000\n",
            "4/4 [==============================] - 0s 8ms/step - loss: 137.3178 - mae: 137.3178 - mse: 45161.3359\n",
            "Epoch 56/1000\n",
            "4/4 [==============================] - 0s 10ms/step - loss: 136.2292 - mae: 136.2292 - mse: 44929.4453\n",
            "Epoch 57/1000\n",
            "4/4 [==============================] - 0s 18ms/step - loss: 135.1837 - mae: 135.1837 - mse: 44546.9883\n",
            "Epoch 58/1000\n",
            "4/4 [==============================] - 0s 16ms/step - loss: 134.3330 - mae: 134.3330 - mse: 44413.7852\n",
            "Epoch 59/1000\n",
            "4/4 [==============================] - 0s 7ms/step - loss: 133.5788 - mae: 133.5788 - mse: 44134.5117\n",
            "Epoch 60/1000\n",
            "4/4 [==============================] - 0s 6ms/step - loss: 132.8264 - mae: 132.8264 - mse: 43334.8711\n",
            "Epoch 61/1000\n",
            "4/4 [==============================] - 0s 13ms/step - loss: 131.8710 - mae: 131.8710 - mse: 42228.6680\n",
            "Epoch 62/1000\n",
            "4/4 [==============================] - 0s 12ms/step - loss: 131.7851 - mae: 131.7851 - mse: 41259.1875\n",
            "Epoch 63/1000\n",
            "4/4 [==============================] - 0s 12ms/step - loss: 130.5246 - mae: 130.5246 - mse: 40432.9531\n",
            "Epoch 64/1000\n",
            "4/4 [==============================] - 0s 6ms/step - loss: 129.6614 - mae: 129.6614 - mse: 40176.5938\n",
            "Epoch 65/1000\n",
            "4/4 [==============================] - 0s 10ms/step - loss: 128.8361 - mae: 128.8361 - mse: 40031.3047\n",
            "Epoch 66/1000\n",
            "4/4 [==============================] - 0s 15ms/step - loss: 128.1863 - mae: 128.1863 - mse: 40105.2773\n",
            "Epoch 67/1000\n",
            "4/4 [==============================] - 0s 11ms/step - loss: 128.3155 - mae: 128.3155 - mse: 40552.3750\n",
            "Epoch 68/1000\n",
            "4/4 [==============================] - 0s 11ms/step - loss: 127.3631 - mae: 127.3631 - mse: 40353.3477\n",
            "Epoch 69/1000\n",
            "4/4 [==============================] - 0s 13ms/step - loss: 126.3410 - mae: 126.3410 - mse: 39492.8125\n",
            "Epoch 70/1000\n",
            "4/4 [==============================] - 0s 13ms/step - loss: 125.5583 - mae: 125.5583 - mse: 38611.1992\n",
            "Epoch 71/1000\n",
            "4/4 [==============================] - 0s 8ms/step - loss: 124.9305 - mae: 124.9305 - mse: 37888.4609\n",
            "Epoch 72/1000\n",
            "4/4 [==============================] - 0s 11ms/step - loss: 124.3534 - mae: 124.3534 - mse: 37272.1016\n",
            "Epoch 73/1000\n",
            "4/4 [==============================] - 0s 13ms/step - loss: 123.6413 - mae: 123.6413 - mse: 36875.1055\n",
            "Epoch 74/1000\n",
            "4/4 [==============================] - 0s 14ms/step - loss: 123.0123 - mae: 123.0123 - mse: 36567.1680\n",
            "Epoch 75/1000\n",
            "4/4 [==============================] - 0s 8ms/step - loss: 122.2990 - mae: 122.2990 - mse: 36213.3164\n",
            "Epoch 76/1000\n",
            "4/4 [==============================] - 0s 8ms/step - loss: 121.7051 - mae: 121.7051 - mse: 35867.1289\n",
            "Epoch 77/1000\n",
            "4/4 [==============================] - 0s 7ms/step - loss: 120.9988 - mae: 120.9988 - mse: 35474.4062\n",
            "Epoch 78/1000\n",
            "4/4 [==============================] - 0s 10ms/step - loss: 120.3058 - mae: 120.3058 - mse: 35149.6055\n",
            "Epoch 79/1000\n",
            "4/4 [==============================] - 0s 28ms/step - loss: 119.7569 - mae: 119.7569 - mse: 34871.5547\n",
            "Epoch 80/1000\n",
            "4/4 [==============================] - 0s 10ms/step - loss: 119.1378 - mae: 119.1378 - mse: 34441.5469\n",
            "Epoch 81/1000\n",
            "4/4 [==============================] - 0s 12ms/step - loss: 118.3844 - mae: 118.3844 - mse: 34174.4219\n",
            "Epoch 82/1000\n",
            "4/4 [==============================] - 0s 7ms/step - loss: 117.8169 - mae: 117.8169 - mse: 33785.6875\n",
            "Epoch 83/1000\n",
            "4/4 [==============================] - 0s 10ms/step - loss: 117.0287 - mae: 117.0287 - mse: 33289.2734\n",
            "Epoch 84/1000\n",
            "4/4 [==============================] - 0s 8ms/step - loss: 116.4396 - mae: 116.4396 - mse: 33026.2852\n",
            "Epoch 85/1000\n",
            "4/4 [==============================] - 0s 13ms/step - loss: 116.2152 - mae: 116.2152 - mse: 32580.6055\n",
            "Epoch 86/1000\n",
            "4/4 [==============================] - 0s 9ms/step - loss: 114.9891 - mae: 114.9891 - mse: 31602.4258\n",
            "Epoch 87/1000\n",
            "4/4 [==============================] - 0s 13ms/step - loss: 114.2940 - mae: 114.2940 - mse: 31518.1445\n",
            "Epoch 88/1000\n",
            "4/4 [==============================] - 0s 14ms/step - loss: 113.8272 - mae: 113.8272 - mse: 31550.4551\n",
            "Epoch 89/1000\n",
            "4/4 [==============================] - 0s 7ms/step - loss: 113.4807 - mae: 113.4807 - mse: 31516.7246\n",
            "Epoch 90/1000\n",
            "4/4 [==============================] - 0s 10ms/step - loss: 112.5343 - mae: 112.5343 - mse: 30699.5176\n",
            "Epoch 91/1000\n",
            "4/4 [==============================] - 0s 6ms/step - loss: 111.9182 - mae: 111.9182 - mse: 29713.0117\n",
            "Epoch 92/1000\n",
            "4/4 [==============================] - 0s 8ms/step - loss: 111.5038 - mae: 111.5038 - mse: 28999.1641\n",
            "Epoch 93/1000\n",
            "4/4 [==============================] - 0s 8ms/step - loss: 110.6026 - mae: 110.6026 - mse: 28557.4902\n",
            "Epoch 94/1000\n",
            "4/4 [==============================] - 0s 14ms/step - loss: 110.0864 - mae: 110.0864 - mse: 28560.2812\n",
            "Epoch 95/1000\n",
            "4/4 [==============================] - 0s 11ms/step - loss: 109.3697 - mae: 109.3697 - mse: 28423.3418\n",
            "Epoch 96/1000\n",
            "4/4 [==============================] - 0s 12ms/step - loss: 108.7405 - mae: 108.7405 - mse: 28089.8340\n",
            "Epoch 97/1000\n",
            "4/4 [==============================] - 0s 16ms/step - loss: 108.0770 - mae: 108.0770 - mse: 27589.3086\n",
            "Epoch 98/1000\n",
            "4/4 [==============================] - 0s 9ms/step - loss: 107.3966 - mae: 107.3966 - mse: 27287.7754\n",
            "Epoch 99/1000\n",
            "4/4 [==============================] - 0s 9ms/step - loss: 106.8818 - mae: 106.8818 - mse: 27040.5625\n",
            "Epoch 100/1000\n",
            "4/4 [==============================] - 0s 14ms/step - loss: 106.3340 - mae: 106.3340 - mse: 26757.8223\n",
            "Epoch 101/1000\n",
            "4/4 [==============================] - 0s 14ms/step - loss: 105.6319 - mae: 105.6319 - mse: 26398.3809\n",
            "Epoch 102/1000\n",
            "4/4 [==============================] - 0s 18ms/step - loss: 104.9894 - mae: 104.9894 - mse: 26078.6660\n",
            "Epoch 103/1000\n",
            "4/4 [==============================] - 0s 10ms/step - loss: 104.3987 - mae: 104.3987 - mse: 25768.4414\n",
            "Epoch 104/1000\n",
            "4/4 [==============================] - 0s 14ms/step - loss: 104.0196 - mae: 104.0196 - mse: 25374.6074\n",
            "Epoch 105/1000\n",
            "4/4 [==============================] - 0s 11ms/step - loss: 103.2834 - mae: 103.2834 - mse: 25207.0684\n",
            "Epoch 106/1000\n",
            "4/4 [==============================] - 0s 11ms/step - loss: 103.0350 - mae: 103.0350 - mse: 25332.9531\n",
            "Epoch 107/1000\n",
            "4/4 [==============================] - 0s 11ms/step - loss: 102.2963 - mae: 102.2963 - mse: 24940.7480\n",
            "Epoch 108/1000\n",
            "4/4 [==============================] - 0s 10ms/step - loss: 101.4758 - mae: 101.4758 - mse: 24163.6016\n",
            "Epoch 109/1000\n",
            "4/4 [==============================] - 0s 8ms/step - loss: 101.0413 - mae: 101.0413 - mse: 23681.7207\n",
            "Epoch 110/1000\n",
            "4/4 [==============================] - 0s 8ms/step - loss: 100.3861 - mae: 100.3861 - mse: 23308.8340\n",
            "Epoch 111/1000\n",
            "4/4 [==============================] - 0s 12ms/step - loss: 99.8762 - mae: 99.8762 - mse: 23007.0234\n",
            "Epoch 112/1000\n",
            "4/4 [==============================] - 0s 8ms/step - loss: 99.3566 - mae: 99.3566 - mse: 22757.9805\n",
            "Epoch 113/1000\n",
            "4/4 [==============================] - 0s 12ms/step - loss: 98.7363 - mae: 98.7363 - mse: 22303.2637\n",
            "Epoch 114/1000\n",
            "4/4 [==============================] - 0s 8ms/step - loss: 97.9060 - mae: 97.9060 - mse: 21775.9766\n",
            "Epoch 115/1000\n",
            "4/4 [==============================] - 0s 8ms/step - loss: 97.4293 - mae: 97.4293 - mse: 21495.3672\n",
            "Epoch 116/1000\n",
            "4/4 [==============================] - 0s 13ms/step - loss: 96.7168 - mae: 96.7168 - mse: 21138.6777\n",
            "Epoch 117/1000\n",
            "4/4 [==============================] - 0s 10ms/step - loss: 96.0681 - mae: 96.0681 - mse: 20887.9414\n",
            "Epoch 118/1000\n",
            "4/4 [==============================] - 0s 8ms/step - loss: 95.4323 - mae: 95.4323 - mse: 20429.6680\n",
            "Epoch 119/1000\n",
            "4/4 [==============================] - 0s 8ms/step - loss: 95.3799 - mae: 95.3799 - mse: 19966.7930\n",
            "Epoch 120/1000\n",
            "4/4 [==============================] - 0s 7ms/step - loss: 94.5944 - mae: 94.5944 - mse: 19624.5977\n",
            "Epoch 121/1000\n",
            "4/4 [==============================] - 0s 16ms/step - loss: 93.9285 - mae: 93.9285 - mse: 19624.9004\n",
            "Epoch 122/1000\n",
            "4/4 [==============================] - 0s 28ms/step - loss: 93.9636 - mae: 93.9636 - mse: 19930.8711\n",
            "Epoch 123/1000\n",
            "4/4 [==============================] - 0s 13ms/step - loss: 93.0789 - mae: 93.0789 - mse: 19328.8477\n",
            "Epoch 124/1000\n",
            "4/4 [==============================] - 0s 9ms/step - loss: 92.0653 - mae: 92.0653 - mse: 18392.2031\n",
            "Epoch 125/1000\n",
            "4/4 [==============================] - 0s 19ms/step - loss: 91.2514 - mae: 91.2514 - mse: 18131.3105\n",
            "Epoch 126/1000\n",
            "4/4 [==============================] - 0s 9ms/step - loss: 90.8386 - mae: 90.8386 - mse: 18183.4824\n",
            "Epoch 127/1000\n",
            "4/4 [==============================] - 0s 9ms/step - loss: 89.8976 - mae: 89.8976 - mse: 17739.6113\n",
            "Epoch 128/1000\n",
            "4/4 [==============================] - 0s 11ms/step - loss: 89.1558 - mae: 89.1558 - mse: 17215.3125\n",
            "Epoch 129/1000\n",
            "4/4 [==============================] - 0s 18ms/step - loss: 88.7887 - mae: 88.7887 - mse: 17188.9141\n",
            "Epoch 130/1000\n",
            "4/4 [==============================] - 0s 9ms/step - loss: 87.8196 - mae: 87.8196 - mse: 16812.2812\n",
            "Epoch 131/1000\n",
            "4/4 [==============================] - 0s 13ms/step - loss: 87.2967 - mae: 87.2967 - mse: 16190.6377\n",
            "Epoch 132/1000\n",
            "4/4 [==============================] - 0s 7ms/step - loss: 86.6294 - mae: 86.6294 - mse: 15821.4648\n",
            "Epoch 133/1000\n",
            "4/4 [==============================] - 0s 7ms/step - loss: 85.7982 - mae: 85.7982 - mse: 15722.9307\n",
            "Epoch 134/1000\n",
            "4/4 [==============================] - 0s 7ms/step - loss: 85.1104 - mae: 85.1104 - mse: 15455.7139\n",
            "Epoch 135/1000\n",
            "4/4 [==============================] - 0s 13ms/step - loss: 84.6106 - mae: 84.6106 - mse: 15019.6562\n",
            "Epoch 136/1000\n",
            "4/4 [==============================] - 0s 12ms/step - loss: 83.6785 - mae: 83.6785 - mse: 14682.8584\n",
            "Epoch 137/1000\n",
            "4/4 [==============================] - 0s 13ms/step - loss: 83.0050 - mae: 83.0050 - mse: 14572.8301\n",
            "Epoch 138/1000\n",
            "4/4 [==============================] - 0s 16ms/step - loss: 82.0395 - mae: 82.0395 - mse: 14190.4980\n",
            "Epoch 139/1000\n",
            "4/4 [==============================] - 0s 12ms/step - loss: 81.5218 - mae: 81.5218 - mse: 13824.0830\n",
            "Epoch 140/1000\n",
            "4/4 [==============================] - 0s 12ms/step - loss: 80.7949 - mae: 80.7949 - mse: 13581.1416\n",
            "Epoch 141/1000\n",
            "4/4 [==============================] - 0s 11ms/step - loss: 79.9435 - mae: 79.9435 - mse: 13340.4492\n",
            "Epoch 142/1000\n",
            "4/4 [==============================] - 0s 10ms/step - loss: 79.2894 - mae: 79.2894 - mse: 13118.8018\n",
            "Epoch 143/1000\n",
            "4/4 [==============================] - 0s 7ms/step - loss: 78.3486 - mae: 78.3486 - mse: 12781.2236\n",
            "Epoch 144/1000\n",
            "4/4 [==============================] - 0s 10ms/step - loss: 77.7381 - mae: 77.7381 - mse: 12421.3164\n",
            "Epoch 145/1000\n",
            "4/4 [==============================] - 0s 12ms/step - loss: 76.8435 - mae: 76.8435 - mse: 12136.5742\n",
            "Epoch 146/1000\n",
            "4/4 [==============================] - 0s 14ms/step - loss: 76.1996 - mae: 76.1996 - mse: 12107.5283\n",
            "Epoch 147/1000\n",
            "4/4 [==============================] - 0s 10ms/step - loss: 75.3855 - mae: 75.3855 - mse: 11846.5312\n",
            "Epoch 148/1000\n",
            "4/4 [==============================] - 0s 11ms/step - loss: 74.3729 - mae: 74.3729 - mse: 11401.4014\n",
            "Epoch 149/1000\n",
            "4/4 [==============================] - 0s 15ms/step - loss: 74.6599 - mae: 74.6599 - mse: 11086.6035\n",
            "Epoch 150/1000\n",
            "4/4 [==============================] - 0s 19ms/step - loss: 73.0515 - mae: 73.0515 - mse: 10757.2920\n",
            "Epoch 151/1000\n",
            "4/4 [==============================] - 0s 8ms/step - loss: 72.3829 - mae: 72.3829 - mse: 10755.2090\n",
            "Epoch 152/1000\n",
            "4/4 [==============================] - 0s 11ms/step - loss: 72.0980 - mae: 72.0980 - mse: 10765.7441\n",
            "Epoch 153/1000\n",
            "4/4 [==============================] - 0s 16ms/step - loss: 70.8357 - mae: 70.8357 - mse: 10402.7998\n",
            "Epoch 154/1000\n",
            "4/4 [==============================] - 0s 25ms/step - loss: 70.0141 - mae: 70.0141 - mse: 10088.6592\n",
            "Epoch 155/1000\n",
            "4/4 [==============================] - 0s 13ms/step - loss: 69.2808 - mae: 69.2808 - mse: 9885.2002\n",
            "Epoch 156/1000\n",
            "4/4 [==============================] - 0s 10ms/step - loss: 68.5442 - mae: 68.5442 - mse: 9753.5195\n",
            "Epoch 157/1000\n",
            "4/4 [==============================] - 0s 7ms/step - loss: 67.9345 - mae: 67.9345 - mse: 9620.4482\n",
            "Epoch 158/1000\n",
            "4/4 [==============================] - 0s 17ms/step - loss: 66.9788 - mae: 66.9788 - mse: 9352.7275\n",
            "Epoch 159/1000\n",
            "4/4 [==============================] - 0s 17ms/step - loss: 66.2735 - mae: 66.2735 - mse: 9152.9844\n",
            "Epoch 160/1000\n",
            "4/4 [==============================] - 0s 17ms/step - loss: 65.5210 - mae: 65.5210 - mse: 9023.4316\n",
            "Epoch 161/1000\n",
            "4/4 [==============================] - 0s 13ms/step - loss: 65.1608 - mae: 65.1608 - mse: 9039.8906\n",
            "Epoch 162/1000\n",
            "4/4 [==============================] - 0s 10ms/step - loss: 64.3883 - mae: 64.3883 - mse: 8947.3984\n",
            "Epoch 163/1000\n",
            "4/4 [==============================] - 0s 10ms/step - loss: 63.8661 - mae: 63.8661 - mse: 8836.6045\n",
            "Epoch 164/1000\n",
            "4/4 [==============================] - 0s 15ms/step - loss: 63.3313 - mae: 63.3313 - mse: 8653.5381\n",
            "Epoch 165/1000\n",
            "4/4 [==============================] - 0s 10ms/step - loss: 62.3052 - mae: 62.3052 - mse: 8575.5645\n",
            "Epoch 166/1000\n",
            "4/4 [==============================] - 0s 10ms/step - loss: 62.7336 - mae: 62.7336 - mse: 8751.9717\n",
            "Epoch 167/1000\n",
            "4/4 [==============================] - 0s 12ms/step - loss: 61.7286 - mae: 61.7286 - mse: 8594.6846\n",
            "Epoch 168/1000\n",
            "4/4 [==============================] - 0s 16ms/step - loss: 61.9692 - mae: 61.9692 - mse: 8549.2344\n",
            "Epoch 169/1000\n",
            "4/4 [==============================] - 0s 10ms/step - loss: 61.1242 - mae: 61.1242 - mse: 8308.4033\n",
            "Epoch 170/1000\n",
            "4/4 [==============================] - 0s 13ms/step - loss: 60.7894 - mae: 60.7894 - mse: 8363.6562\n",
            "Epoch 171/1000\n",
            "4/4 [==============================] - 0s 8ms/step - loss: 60.6600 - mae: 60.6600 - mse: 8358.8135\n",
            "Epoch 172/1000\n",
            "4/4 [==============================] - 0s 9ms/step - loss: 60.5588 - mae: 60.5588 - mse: 8365.9854\n",
            "Epoch 173/1000\n",
            "4/4 [==============================] - 0s 22ms/step - loss: 60.7140 - mae: 60.7140 - mse: 8486.2490\n",
            "Epoch 174/1000\n",
            "4/4 [==============================] - 0s 12ms/step - loss: 60.3733 - mae: 60.3733 - mse: 8229.0176\n",
            "Epoch 175/1000\n",
            "4/4 [==============================] - 0s 11ms/step - loss: 60.0547 - mae: 60.0547 - mse: 8095.1299\n",
            "Epoch 176/1000\n",
            "4/4 [==============================] - 0s 9ms/step - loss: 59.9893 - mae: 59.9893 - mse: 8023.6201\n",
            "Epoch 177/1000\n",
            "4/4 [==============================] - 0s 9ms/step - loss: 59.7909 - mae: 59.7909 - mse: 7993.8066\n",
            "Epoch 178/1000\n",
            "4/4 [==============================] - 0s 13ms/step - loss: 59.9924 - mae: 59.9924 - mse: 8038.3242\n",
            "Epoch 179/1000\n",
            "4/4 [==============================] - 0s 26ms/step - loss: 59.6573 - mae: 59.6573 - mse: 7931.7051\n",
            "Epoch 180/1000\n",
            "4/4 [==============================] - 0s 29ms/step - loss: 60.6833 - mae: 60.6833 - mse: 7819.3594\n",
            "Epoch 181/1000\n",
            "4/4 [==============================] - 0s 19ms/step - loss: 60.1275 - mae: 60.1275 - mse: 7882.6631\n",
            "Epoch 182/1000\n",
            "4/4 [==============================] - 0s 15ms/step - loss: 59.6687 - mae: 59.6687 - mse: 7929.3379\n",
            "Epoch 183/1000\n",
            "4/4 [==============================] - 0s 13ms/step - loss: 59.8219 - mae: 59.8219 - mse: 7895.9229\n",
            "Epoch 184/1000\n",
            "4/4 [==============================] - 0s 13ms/step - loss: 59.9268 - mae: 59.9268 - mse: 7844.5122\n",
            "Epoch 185/1000\n",
            "4/4 [==============================] - 0s 15ms/step - loss: 59.8741 - mae: 59.8741 - mse: 7840.9707\n",
            "Epoch 186/1000\n",
            "4/4 [==============================] - 0s 11ms/step - loss: 59.6141 - mae: 59.6141 - mse: 7960.8345\n",
            "Epoch 187/1000\n",
            "4/4 [==============================] - 0s 7ms/step - loss: 59.7009 - mae: 59.7009 - mse: 8022.2563\n",
            "Epoch 188/1000\n",
            "4/4 [==============================] - 0s 12ms/step - loss: 59.9304 - mae: 59.9304 - mse: 8014.6318\n",
            "Epoch 189/1000\n",
            "4/4 [==============================] - 0s 8ms/step - loss: 59.7194 - mae: 59.7194 - mse: 7944.6382\n",
            "Epoch 190/1000\n",
            "4/4 [==============================] - 0s 8ms/step - loss: 59.6850 - mae: 59.6850 - mse: 7892.4150\n",
            "Epoch 191/1000\n",
            "4/4 [==============================] - 0s 8ms/step - loss: 59.5471 - mae: 59.5471 - mse: 7897.4556\n",
            "Epoch 192/1000\n",
            "4/4 [==============================] - 0s 10ms/step - loss: 59.9539 - mae: 59.9539 - mse: 8035.9307\n",
            "Epoch 193/1000\n",
            "4/4 [==============================] - 0s 11ms/step - loss: 60.0074 - mae: 60.0074 - mse: 7958.9336\n",
            "Epoch 194/1000\n",
            "4/4 [==============================] - 0s 11ms/step - loss: 59.9054 - mae: 59.9054 - mse: 7889.6357\n",
            "Epoch 195/1000\n",
            "4/4 [==============================] - 0s 14ms/step - loss: 59.7782 - mae: 59.7782 - mse: 7954.4751\n",
            "Epoch 196/1000\n",
            "4/4 [==============================] - 0s 16ms/step - loss: 60.2417 - mae: 60.2417 - mse: 7852.8120\n",
            "Epoch 197/1000\n",
            "4/4 [==============================] - 0s 14ms/step - loss: 59.6384 - mae: 59.6384 - mse: 7863.1621\n",
            "Epoch 198/1000\n",
            "4/4 [==============================] - 0s 9ms/step - loss: 59.7552 - mae: 59.7552 - mse: 7997.9844\n",
            "Epoch 199/1000\n",
            "4/4 [==============================] - 0s 12ms/step - loss: 59.5929 - mae: 59.5929 - mse: 7950.6890\n",
            "Epoch 200/1000\n",
            "4/4 [==============================] - 0s 20ms/step - loss: 60.0024 - mae: 60.0024 - mse: 7889.5981\n",
            "Epoch 201/1000\n",
            "4/4 [==============================] - 0s 10ms/step - loss: 59.6338 - mae: 59.6338 - mse: 7887.0005\n"
          ]
        }
      ]
    },
    {
      "cell_type": "code",
      "source": [
        "#evaluation\n",
        "model.evaluate(X_test_normal,y_test)"
      ],
      "metadata": {
        "colab": {
          "base_uri": "https://localhost:8080/"
        },
        "id": "dD5VxJQ5Zli1",
        "outputId": "5f8103f5-23b3-4cf6-e49f-9bebd8cf4f09"
      },
      "execution_count": 14,
      "outputs": [
        {
          "output_type": "stream",
          "name": "stdout",
          "text": [
            "2/2 [==============================] - 0s 7ms/step - loss: 84.8235 - mae: 84.8235 - mse: 11702.7295\n"
          ]
        },
        {
          "output_type": "execute_result",
          "data": {
            "text/plain": [
              "[84.82351684570312, 84.82351684570312, 11702.7294921875]"
            ]
          },
          "metadata": {},
          "execution_count": 14
        }
      ]
    },
    {
      "cell_type": "code",
      "source": [
        "model.summary()"
      ],
      "metadata": {
        "colab": {
          "base_uri": "https://localhost:8080/"
        },
        "id": "5wiE7A3xZtuD",
        "outputId": "e5d524bf-9edd-4151-89c0-85b00a781cd9"
      },
      "execution_count": 15,
      "outputs": [
        {
          "output_type": "stream",
          "name": "stdout",
          "text": [
            "Model: \"sequential\"\n",
            "_________________________________________________________________\n",
            " Layer (type)                Output Shape              Param #   \n",
            "=================================================================\n",
            " dense (Dense)               (None, 100)               1100      \n",
            "                                                                 \n",
            " dense_1 (Dense)             (None, 50)                5050      \n",
            "                                                                 \n",
            " dense_2 (Dense)             (None, 10)                510       \n",
            "                                                                 \n",
            " dense_3 (Dense)             (None, 1)                 11        \n",
            "                                                                 \n",
            "=================================================================\n",
            "Total params: 6,671\n",
            "Trainable params: 6,671\n",
            "Non-trainable params: 0\n",
            "_________________________________________________________________\n"
          ]
        }
      ]
    },
    {
      "cell_type": "code",
      "source": [
        "pred = model.predict(X_test_normal)"
      ],
      "metadata": {
        "colab": {
          "base_uri": "https://localhost:8080/"
        },
        "id": "7kgoo3hrZyK5",
        "outputId": "8e9cc8e3-5e4f-4c2c-ea1d-f04b257e4879"
      },
      "execution_count": 16,
      "outputs": [
        {
          "output_type": "stream",
          "name": "stdout",
          "text": [
            "2/2 [==============================] - 0s 8ms/step\n"
          ]
        }
      ]
    },
    {
      "cell_type": "code",
      "source": [
        "len(X_test_normal)"
      ],
      "metadata": {
        "colab": {
          "base_uri": "https://localhost:8080/"
        },
        "id": "E7CwX-HtZ2L3",
        "outputId": "d2acd8e0-8ed2-4045-9b5a-a4f2822b3483"
      },
      "execution_count": 17,
      "outputs": [
        {
          "output_type": "execute_result",
          "data": {
            "text/plain": [
              "48"
            ]
          },
          "metadata": {},
          "execution_count": 17
        }
      ]
    },
    {
      "cell_type": "code",
      "source": [
        "plt.figure(figsize=(10,7))\n",
        "plt.scatter(range(0,len(X_test_normal)), pred,color=\"green\",label=\"predicted\")\n",
        "plt.scatter(range(0,len(X_test_normal)), y_test,color=\"red\",label=\"True value\")\n",
        "plt.legend()\n",
        "plt.show()"
      ],
      "metadata": {
        "colab": {
          "base_uri": "https://localhost:8080/",
          "height": 428
        },
        "id": "2l1OfAJhZ4lY",
        "outputId": "14a2a1c7-1624-4ab0-eebe-1614e71d8eb9"
      },
      "execution_count": 18,
      "outputs": [
        {
          "output_type": "display_data",
          "data": {
            "text/plain": [
              "<Figure size 720x504 with 1 Axes>"
            ],
            "image/png": "[encoded data removed]"
          },
          "metadata": {
            "needs_background": "light"
          }
        }
      ]
    }
  ]
}